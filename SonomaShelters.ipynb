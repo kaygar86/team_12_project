{
 "cells": [
  {
   "cell_type": "code",
   "execution_count": 3,
   "id": "6f811266",
   "metadata": {},
   "outputs": [],
   "source": [
    "import pandas as pd\n",
    "import os"
   ]
  },
  {
   "cell_type": "code",
   "execution_count": 4,
   "id": "561aa7cb",
   "metadata": {},
   "outputs": [],
   "source": [
    "shelter_data_to_load = \"Animal_Shelter_Intake_and_Outcome.csv\""
   ]
  },
  {
   "cell_type": "code",
   "execution_count": null,
   "id": "25ec6067",
   "metadata": {},
   "outputs": [],
   "source": [
    "shelter_data_df = pd.read_csv(shelter_data_to)"
   ]
  }
 ],
 "metadata": {
  "kernelspec": {
   "display_name": "Python 3 (ipykernel)",
   "language": "python",
   "name": "python3"
  },
  "language_info": {
   "codemirror_mode": {
    "name": "ipython",
    "version": 3
   },
   "file_extension": ".py",
   "mimetype": "text/x-python",
   "name": "python",
   "nbconvert_exporter": "python",
   "pygments_lexer": "ipython3",
   "version": "3.9.7"
  }
 },
 "nbformat": 4,
 "nbformat_minor": 5
}
